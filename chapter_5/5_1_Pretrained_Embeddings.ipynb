{
  "nbformat": 4,
  "nbformat_minor": 0,
  "metadata": {
    "kernelspec": {
      "display_name": "Python 3",
      "language": "python",
      "name": "python3"
    },
    "language_info": {
      "codemirror_mode": {
        "name": "ipython",
        "version": 3
      },
      "file_extension": ".py",
      "mimetype": "text/x-python",
      "name": "python",
      "nbconvert_exporter": "python",
      "pygments_lexer": "ipython3",
      "version": "3.7.3"
    },
    "colab": {
      "name": "5_1_Pretrained_Embeddings.ipynb",
      "provenance": []
    },
    "accelerator": "GPU"
  },
  "cells": [
    {
      "cell_type": "markdown",
      "metadata": {
        "id": "N8eNyhCJnbP8"
      },
      "source": [
        "*아래 링크를 통해 이 노트북을 주피터 노트북 뷰어(nbviewer.jupyter.org)로 보거나 구글 코랩(colab.research.google.com)에서 실행할 수 있습니다.*\n",
        "\n",
        "<table class=\"tfo-notebook-buttons\" align=\"left\">\n",
        "  <td>\n",
        "    <a target=\"_blank\" href=\"https://nbviewer.jupyter.org/github/rickiepark/nlp-with-pytorch/blob/master/chapter_5/5_1_Pretrained_Embeddings.ipynb\"><img src=\"https://jupyter.org/assets/main-logo.svg\" width=\"28\" />주피터 노트북 뷰어로 보기</a>\n",
        "  </td>\n",
        "  <td>\n",
        "    <a target=\"_blank\" href=\"https://colab.research.google.com/github/rickiepark/nlp-with-pytorch/blob/master/chapter_5/5_1_Pretrained_Embeddings.ipynb\"><img src=\"https://www.tensorflow.org/images/colab_logo_32px.png\" />구글 코랩(Colab)에서 실행하기</a>\n",
        "  </td>\n",
        "</table>"
      ]
    },
    {
      "cell_type": "code",
      "metadata": {
        "id": "pNflcE7Xnf4E",
        "colab": {
          "base_uri": "https://localhost:8080/"
        },
        "outputId": "378f0ed1-ee8b-4f0f-973f-cd0806c54f4e"
      },
      "source": [
        "# annoy 패키지를 설치합니다.\n",
        "!pip install annoy"
      ],
      "execution_count": 1,
      "outputs": [
        {
          "output_type": "stream",
          "text": [
            "Collecting annoy\n",
            "\u001b[?25l  Downloading https://files.pythonhosted.org/packages/a1/5b/1c22129f608b3f438713b91cd880dc681d747a860afe3e8e0af86e921942/annoy-1.17.0.tar.gz (646kB)\n",
            "\r\u001b[K     |▌                               | 10kB 21.7MB/s eta 0:00:01\r\u001b[K     |█                               | 20kB 20.0MB/s eta 0:00:01\r\u001b[K     |█▌                              | 30kB 15.2MB/s eta 0:00:01\r\u001b[K     |██                              | 40kB 13.6MB/s eta 0:00:01\r\u001b[K     |██▌                             | 51kB 8.4MB/s eta 0:00:01\r\u001b[K     |███                             | 61kB 8.4MB/s eta 0:00:01\r\u001b[K     |███▌                            | 71kB 9.0MB/s eta 0:00:01\r\u001b[K     |████                            | 81kB 10.0MB/s eta 0:00:01\r\u001b[K     |████▋                           | 92kB 8.9MB/s eta 0:00:01\r\u001b[K     |█████                           | 102kB 7.9MB/s eta 0:00:01\r\u001b[K     |█████▋                          | 112kB 7.9MB/s eta 0:00:01\r\u001b[K     |██████                          | 122kB 7.9MB/s eta 0:00:01\r\u001b[K     |██████▋                         | 133kB 7.9MB/s eta 0:00:01\r\u001b[K     |███████                         | 143kB 7.9MB/s eta 0:00:01\r\u001b[K     |███████▋                        | 153kB 7.9MB/s eta 0:00:01\r\u001b[K     |████████▏                       | 163kB 7.9MB/s eta 0:00:01\r\u001b[K     |████████▋                       | 174kB 7.9MB/s eta 0:00:01\r\u001b[K     |█████████▏                      | 184kB 7.9MB/s eta 0:00:01\r\u001b[K     |█████████▋                      | 194kB 7.9MB/s eta 0:00:01\r\u001b[K     |██████████▏                     | 204kB 7.9MB/s eta 0:00:01\r\u001b[K     |██████████▋                     | 215kB 7.9MB/s eta 0:00:01\r\u001b[K     |███████████▏                    | 225kB 7.9MB/s eta 0:00:01\r\u001b[K     |███████████▋                    | 235kB 7.9MB/s eta 0:00:01\r\u001b[K     |████████████▏                   | 245kB 7.9MB/s eta 0:00:01\r\u001b[K     |████████████▊                   | 256kB 7.9MB/s eta 0:00:01\r\u001b[K     |█████████████▏                  | 266kB 7.9MB/s eta 0:00:01\r\u001b[K     |█████████████▊                  | 276kB 7.9MB/s eta 0:00:01\r\u001b[K     |██████████████▏                 | 286kB 7.9MB/s eta 0:00:01\r\u001b[K     |██████████████▊                 | 296kB 7.9MB/s eta 0:00:01\r\u001b[K     |███████████████▏                | 307kB 7.9MB/s eta 0:00:01\r\u001b[K     |███████████████▊                | 317kB 7.9MB/s eta 0:00:01\r\u001b[K     |████████████████▎               | 327kB 7.9MB/s eta 0:00:01\r\u001b[K     |████████████████▊               | 337kB 7.9MB/s eta 0:00:01\r\u001b[K     |█████████████████▎              | 348kB 7.9MB/s eta 0:00:01\r\u001b[K     |█████████████████▊              | 358kB 7.9MB/s eta 0:00:01\r\u001b[K     |██████████████████▎             | 368kB 7.9MB/s eta 0:00:01\r\u001b[K     |██████████████████▊             | 378kB 7.9MB/s eta 0:00:01\r\u001b[K     |███████████████████▎            | 389kB 7.9MB/s eta 0:00:01\r\u001b[K     |███████████████████▊            | 399kB 7.9MB/s eta 0:00:01\r\u001b[K     |████████████████████▎           | 409kB 7.9MB/s eta 0:00:01\r\u001b[K     |████████████████████▉           | 419kB 7.9MB/s eta 0:00:01\r\u001b[K     |█████████████████████▎          | 430kB 7.9MB/s eta 0:00:01\r\u001b[K     |█████████████████████▉          | 440kB 7.9MB/s eta 0:00:01\r\u001b[K     |██████████████████████▎         | 450kB 7.9MB/s eta 0:00:01\r\u001b[K     |██████████████████████▉         | 460kB 7.9MB/s eta 0:00:01\r\u001b[K     |███████████████████████▎        | 471kB 7.9MB/s eta 0:00:01\r\u001b[K     |███████████████████████▉        | 481kB 7.9MB/s eta 0:00:01\r\u001b[K     |████████████████████████▍       | 491kB 7.9MB/s eta 0:00:01\r\u001b[K     |████████████████████████▉       | 501kB 7.9MB/s eta 0:00:01\r\u001b[K     |█████████████████████████▍      | 512kB 7.9MB/s eta 0:00:01\r\u001b[K     |█████████████████████████▉      | 522kB 7.9MB/s eta 0:00:01\r\u001b[K     |██████████████████████████▍     | 532kB 7.9MB/s eta 0:00:01\r\u001b[K     |██████████████████████████▉     | 542kB 7.9MB/s eta 0:00:01\r\u001b[K     |███████████████████████████▍    | 552kB 7.9MB/s eta 0:00:01\r\u001b[K     |███████████████████████████▉    | 563kB 7.9MB/s eta 0:00:01\r\u001b[K     |████████████████████████████▍   | 573kB 7.9MB/s eta 0:00:01\r\u001b[K     |█████████████████████████████   | 583kB 7.9MB/s eta 0:00:01\r\u001b[K     |█████████████████████████████▍  | 593kB 7.9MB/s eta 0:00:01\r\u001b[K     |██████████████████████████████  | 604kB 7.9MB/s eta 0:00:01\r\u001b[K     |██████████████████████████████▍ | 614kB 7.9MB/s eta 0:00:01\r\u001b[K     |███████████████████████████████ | 624kB 7.9MB/s eta 0:00:01\r\u001b[K     |███████████████████████████████▍| 634kB 7.9MB/s eta 0:00:01\r\u001b[K     |████████████████████████████████| 645kB 7.9MB/s eta 0:00:01\r\u001b[K     |████████████████████████████████| 655kB 7.9MB/s \n",
            "\u001b[?25hBuilding wheels for collected packages: annoy\n",
            "  Building wheel for annoy (setup.py) ... \u001b[?25l\u001b[?25hdone\n",
            "  Created wheel for annoy: filename=annoy-1.17.0-cp37-cp37m-linux_x86_64.whl size=391605 sha256=bf7c81a9c5f300ab2a56566bf752d4170c537d16fa1c1cddb4b2ba3d9cabe349\n",
            "  Stored in directory: /root/.cache/pip/wheels/3a/c5/59/cce7e67b52c8e987389e53f917b6bb2a9d904a03246fadcb1e\n",
            "Successfully built annoy\n",
            "Installing collected packages: annoy\n",
            "Successfully installed annoy-1.17.0\n"
          ],
          "name": "stdout"
        }
      ]
    },
    {
      "cell_type": "code",
      "metadata": {
        "id": "wce9esK2nbQA"
      },
      "source": [
        "import torch\n",
        "import torch.nn as nn\n",
        "from tqdm import tqdm\n",
        "from annoy import AnnoyIndex\n",
        "import numpy as np"
      ],
      "execution_count": 2,
      "outputs": []
    },
    {
      "cell_type": "code",
      "metadata": {
        "id": "8ilK5G46nbQB"
      },
      "source": [
        "class PreTrainedEmbeddings(object):\n",
        "    \"\"\" 사전 훈련된 단어 벡터 사용을 위한 래퍼 클래스 \"\"\"\n",
        "    def __init__(self, word_to_index, word_vectors):\n",
        "        \"\"\"\n",
        "        매개변수:\n",
        "            word_to_index (dict): 단어에서 정수로 매핑\n",
        "            word_vectors (numpy 배열의 리스트)\n",
        "        \"\"\"\n",
        "        self.word_to_index = word_to_index\n",
        "        self.word_vectors = word_vectors\n",
        "        self.index_to_word = {v: k for k, v in self.word_to_index.items()}\n",
        "\n",
        "        self.index = AnnoyIndex(len(word_vectors[0]), metric='euclidean')\n",
        "        print(\"인덱스 만드는 중!\")\n",
        "        for _, i in self.word_to_index.items():\n",
        "            self.index.add_item(i, self.word_vectors[i])\n",
        "        self.index.build(50)\n",
        "        print(\"완료!\")\n",
        "        \n",
        "    @classmethod\n",
        "    def from_embeddings_file(cls, embedding_file):\n",
        "        \"\"\"사전 훈련된 벡터 파일에서 객체를 만듭니다.\n",
        "        \n",
        "        벡터 파일은 다음과 같은 포맷입니다:\n",
        "            word0 x0_0 x0_1 x0_2 x0_3 ... x0_N\n",
        "            word1 x1_0 x1_1 x1_2 x1_3 ... x1_N\n",
        "        \n",
        "        매개변수:\n",
        "            embedding_file (str): 파일 위치\n",
        "        반환값:\n",
        "            PretrainedEmbeddings의 인스턴스\n",
        "        \"\"\"\n",
        "        word_to_index = {}\n",
        "        word_vectors = []\n",
        "\n",
        "        with open(embedding_file) as fp:\n",
        "            for line in fp.readlines():\n",
        "                line = line.split(\" \")\n",
        "                word = line[0]\n",
        "                vec = np.array([float(x) for x in line[1:]])\n",
        "                \n",
        "                word_to_index[word] = len(word_to_index)\n",
        "                word_vectors.append(vec)\n",
        "                \n",
        "        return cls(word_to_index, word_vectors)\n",
        "    \n",
        "    def get_embedding(self, word):\n",
        "        \"\"\"\n",
        "        매개변수:\n",
        "            word (str)\n",
        "        반환값\n",
        "            임베딩 (numpy.ndarray)\n",
        "        \"\"\"\n",
        "        return self.word_vectors[self.word_to_index[word]]\n",
        "\n",
        "    def get_closest_to_vector(self, vector, n=1):\n",
        "        \"\"\"벡터가 주어지면 n 개의 최근접 이웃을 반환합니다\n",
        "        매개변수:\n",
        "            vector (np.ndarray): Annoy 인덱스에 있는 벡터의 크기와 같아야 합니다\n",
        "            n (int): 반환될 이웃의 개수\n",
        "        반환값:\n",
        "            [str, str, ...]: 주어진 벡터와 가장 가까운 단어\n",
        "                단어는 거리순으로 정렬되어 있지 않습니다.\n",
        "        \"\"\"\n",
        "        nn_indices = self.index.get_nns_by_vector(vector, n)\n",
        "        return [self.index_to_word[neighbor] for neighbor in nn_indices]\n",
        "    \n",
        "    def compute_and_print_analogy(self, word1, word2, word3):\n",
        "        \"\"\"단어 임베딩을 사용한 유추 결과를 출력합니다\n",
        "\n",
        "        word1이 word2일 때 word3은 __입니다.\n",
        "        이 메서드는 word1 : word2 :: word3 : word4를 출력합니다\n",
        "        \n",
        "        매개변수:\n",
        "            word1 (str)\n",
        "            word2 (str)\n",
        "            word3 (str)\n",
        "        \"\"\"\n",
        "        vec1 = self.get_embedding(word1)\n",
        "        vec2 = self.get_embedding(word2)\n",
        "        vec3 = self.get_embedding(word3)\n",
        "\n",
        "        # 네 번째 단어 임베딩을 계산합니다\n",
        "        spatial_relationship = vec2 - vec1\n",
        "        vec4 = vec3 + spatial_relationship\n",
        "\n",
        "        closest_words = self.get_closest_to_vector(vec4, n=4)\n",
        "        existing_words = set([word1, word2, word3])\n",
        "        closest_words = [word for word in closest_words \n",
        "                             if word not in existing_words] \n",
        "\n",
        "        if len(closest_words) == 0:\n",
        "            print(\"계산된 벡터와 가장 가까운 이웃을 찾을 수 없습니다!\")\n",
        "            return\n",
        "        \n",
        "        for word4 in closest_words:\n",
        "            print(\"{} : {} :: {} : {}\".format(word1, word2, word3, word4))"
      ],
      "execution_count": 3,
      "outputs": []
    },
    {
      "cell_type": "code",
      "metadata": {
        "id": "wzI7893JnbQC",
        "colab": {
          "base_uri": "https://localhost:8080/"
        },
        "outputId": "6018dfeb-3e7a-416a-c6f5-dd9af73042b0"
      },
      "source": [
        "# GloVe 데이터를 다운로드합니다.\n",
        "!wget http://nlp.stanford.edu/data/glove.6B.zip\n",
        "!unzip glove.6B.zip\n",
        "!mkdir -p data/glove\n",
        "!mv glove.6B.100d.txt data/glove"
      ],
      "execution_count": 4,
      "outputs": [
        {
          "output_type": "stream",
          "text": [
            "--2021-03-23 07:08:58--  http://nlp.stanford.edu/data/glove.6B.zip\n",
            "Resolving nlp.stanford.edu (nlp.stanford.edu)... 171.64.67.140\n",
            "Connecting to nlp.stanford.edu (nlp.stanford.edu)|171.64.67.140|:80... connected.\n",
            "HTTP request sent, awaiting response... 302 Found\n",
            "Location: https://nlp.stanford.edu/data/glove.6B.zip [following]\n",
            "--2021-03-23 07:08:58--  https://nlp.stanford.edu/data/glove.6B.zip\n",
            "Connecting to nlp.stanford.edu (nlp.stanford.edu)|171.64.67.140|:443... connected.\n",
            "HTTP request sent, awaiting response... 301 Moved Permanently\n",
            "Location: http://downloads.cs.stanford.edu/nlp/data/glove.6B.zip [following]\n",
            "--2021-03-23 07:08:59--  http://downloads.cs.stanford.edu/nlp/data/glove.6B.zip\n",
            "Resolving downloads.cs.stanford.edu (downloads.cs.stanford.edu)... 171.64.64.22\n",
            "Connecting to downloads.cs.stanford.edu (downloads.cs.stanford.edu)|171.64.64.22|:80... connected.\n",
            "HTTP request sent, awaiting response... 200 OK\n",
            "Length: 862182613 (822M) [application/zip]\n",
            "Saving to: ‘glove.6B.zip’\n",
            "\n",
            "glove.6B.zip        100%[===================>] 822.24M  5.05MB/s    in 2m 40s  \n",
            "\n",
            "2021-03-23 07:11:39 (5.13 MB/s) - ‘glove.6B.zip’ saved [862182613/862182613]\n",
            "\n",
            "Archive:  glove.6B.zip\n",
            "  inflating: glove.6B.50d.txt        \n",
            "  inflating: glove.6B.100d.txt       \n",
            "  inflating: glove.6B.200d.txt       \n",
            "  inflating: glove.6B.300d.txt       \n"
          ],
          "name": "stdout"
        }
      ]
    },
    {
      "cell_type": "code",
      "metadata": {
        "scrolled": true,
        "id": "jAjjduj4nbQC",
        "colab": {
          "base_uri": "https://localhost:8080/"
        },
        "outputId": "96563c16-caa8-4903-ed2b-30796f033e7e"
      },
      "source": [
        "embeddings = PreTrainedEmbeddings.from_embeddings_file('data/glove/glove.6B.100d.txt')"
      ],
      "execution_count": 5,
      "outputs": [
        {
          "output_type": "stream",
          "text": [
            "인덱스 만드는 중!\n",
            "완료!\n"
          ],
          "name": "stdout"
        }
      ]
    },
    {
      "cell_type": "code",
      "metadata": {
        "id": "-vkPwR1WnbQD",
        "colab": {
          "base_uri": "https://localhost:8080/"
        },
        "outputId": "94913c7e-13a4-4366-87ec-deacc79bcdd5"
      },
      "source": [
        "embeddings.compute_and_print_analogy('man', 'he', 'woman')"
      ],
      "execution_count": 6,
      "outputs": [
        {
          "output_type": "stream",
          "text": [
            "man : he :: woman : she\n",
            "man : he :: woman : her\n"
          ],
          "name": "stdout"
        }
      ]
    },
    {
      "cell_type": "code",
      "metadata": {
        "id": "qdW0ALNwnbQD",
        "colab": {
          "base_uri": "https://localhost:8080/"
        },
        "outputId": "227a9cab-fc5a-4795-ac83-943d6824d96c"
      },
      "source": [
        "embeddings.compute_and_print_analogy('fly', 'plane', 'sail')"
      ],
      "execution_count": 7,
      "outputs": [
        {
          "output_type": "stream",
          "text": [
            "fly : plane :: sail : ship\n",
            "fly : plane :: sail : vessel\n",
            "fly : plane :: sail : boat\n"
          ],
          "name": "stdout"
        }
      ]
    },
    {
      "cell_type": "code",
      "metadata": {
        "id": "7BPECjEWnbQD",
        "colab": {
          "base_uri": "https://localhost:8080/"
        },
        "outputId": "947ac667-4a14-45e4-b80b-b2cb60fc9b16"
      },
      "source": [
        "embeddings.compute_and_print_analogy('cat', 'kitten', 'dog')"
      ],
      "execution_count": 8,
      "outputs": [
        {
          "output_type": "stream",
          "text": [
            "cat : kitten :: dog : puppy\n",
            "cat : kitten :: dog : puppies\n",
            "cat : kitten :: dog : junkyard\n"
          ],
          "name": "stdout"
        }
      ]
    },
    {
      "cell_type": "code",
      "metadata": {
        "id": "GTePW8TUnbQD",
        "colab": {
          "base_uri": "https://localhost:8080/"
        },
        "outputId": "90158e63-fec0-4dff-c65b-12d327e8d6af"
      },
      "source": [
        "embeddings.compute_and_print_analogy('blue', 'color', 'dog')"
      ],
      "execution_count": 9,
      "outputs": [
        {
          "output_type": "stream",
          "text": [
            "blue : color :: dog : animal\n",
            "blue : color :: dog : pet\n",
            "blue : color :: dog : taste\n",
            "blue : color :: dog : touch\n"
          ],
          "name": "stdout"
        }
      ]
    },
    {
      "cell_type": "code",
      "metadata": {
        "id": "qS2ZTE2gnbQE",
        "colab": {
          "base_uri": "https://localhost:8080/"
        },
        "outputId": "9a4b60cf-3975-4b9c-d3bf-0ac9b47b888e"
      },
      "source": [
        "embeddings.compute_and_print_analogy('leg', 'legs', 'hand')"
      ],
      "execution_count": 10,
      "outputs": [
        {
          "output_type": "stream",
          "text": [
            "leg : legs :: hand : stick\n",
            "leg : legs :: hand : eyes\n",
            "leg : legs :: hand : instead\n"
          ],
          "name": "stdout"
        }
      ]
    },
    {
      "cell_type": "code",
      "metadata": {
        "id": "BjoDo_0tnbQE",
        "colab": {
          "base_uri": "https://localhost:8080/"
        },
        "outputId": "82ff5fdc-3e5e-4cc2-9b31-c6c71ea5f239"
      },
      "source": [
        "embeddings.compute_and_print_analogy('toe', 'foot', 'finger')"
      ],
      "execution_count": 11,
      "outputs": [
        {
          "output_type": "stream",
          "text": [
            "toe : foot :: finger : hand\n",
            "toe : foot :: finger : kept\n",
            "toe : foot :: finger : ground\n"
          ],
          "name": "stdout"
        }
      ]
    },
    {
      "cell_type": "code",
      "metadata": {
        "id": "sf2Cg82nnbQE",
        "colab": {
          "base_uri": "https://localhost:8080/"
        },
        "outputId": "2a669226-f5b5-41f8-b6ce-8c47a28da4a3"
      },
      "source": [
        "embeddings.compute_and_print_analogy('talk', 'communicate', 'read')"
      ],
      "execution_count": 12,
      "outputs": [
        {
          "output_type": "stream",
          "text": [
            "talk : communicate :: read : interpret\n",
            "talk : communicate :: read : communicated\n",
            "talk : communicate :: read : transmit\n"
          ],
          "name": "stdout"
        }
      ]
    },
    {
      "cell_type": "code",
      "metadata": {
        "id": "cYyVG3c8nbQE",
        "colab": {
          "base_uri": "https://localhost:8080/"
        },
        "outputId": "7d686fa9-aa1d-4e71-f597-d7a3ea492a03"
      },
      "source": [
        "embeddings.compute_and_print_analogy('blue', 'democrat', 'red')"
      ],
      "execution_count": 13,
      "outputs": [
        {
          "output_type": "stream",
          "text": [
            "blue : democrat :: red : republican\n",
            "blue : democrat :: red : congressman\n",
            "blue : democrat :: red : senator\n"
          ],
          "name": "stdout"
        }
      ]
    },
    {
      "cell_type": "code",
      "metadata": {
        "id": "28L6Y98PnbQE",
        "colab": {
          "base_uri": "https://localhost:8080/"
        },
        "outputId": "6f0ce28e-6413-466d-91c7-9212a0da529e"
      },
      "source": [
        "embeddings.compute_and_print_analogy('man', 'king', 'woman')"
      ],
      "execution_count": 14,
      "outputs": [
        {
          "output_type": "stream",
          "text": [
            "man : king :: woman : queen\n",
            "man : king :: woman : monarch\n",
            "man : king :: woman : throne\n"
          ],
          "name": "stdout"
        }
      ]
    },
    {
      "cell_type": "code",
      "metadata": {
        "id": "gJVD1nyDnbQF",
        "colab": {
          "base_uri": "https://localhost:8080/"
        },
        "outputId": "d65e7ed0-8c50-41ae-89e0-f909793d17f9"
      },
      "source": [
        "embeddings.compute_and_print_analogy('man', 'doctor', 'woman')"
      ],
      "execution_count": 15,
      "outputs": [
        {
          "output_type": "stream",
          "text": [
            "man : doctor :: woman : nurse\n",
            "man : doctor :: woman : physician\n",
            "man : doctor :: woman : doctors\n"
          ],
          "name": "stdout"
        }
      ]
    },
    {
      "cell_type": "code",
      "metadata": {
        "id": "PUnCxUdcnbQF",
        "colab": {
          "base_uri": "https://localhost:8080/"
        },
        "outputId": "fb2c831b-6a84-46ec-8554-81a9fce1dd2d"
      },
      "source": [
        "embeddings.compute_and_print_analogy('fast', 'fastest', 'small')"
      ],
      "execution_count": 16,
      "outputs": [
        {
          "output_type": "stream",
          "text": [
            "fast : fastest :: small : smallest\n",
            "fast : fastest :: small : largest\n",
            "fast : fastest :: small : among\n",
            "fast : fastest :: small : quarters\n"
          ],
          "name": "stdout"
        }
      ]
    }
  ]
}