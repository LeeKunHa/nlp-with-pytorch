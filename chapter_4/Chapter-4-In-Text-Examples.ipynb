{
  "nbformat": 4,
  "nbformat_minor": 0,
  "metadata": {
    "kernelspec": {
      "display_name": "Python 3",
      "language": "python",
      "name": "python3"
    },
    "language_info": {
      "codemirror_mode": {
        "name": "ipython",
        "version": 3
      },
      "file_extension": ".py",
      "mimetype": "text/x-python",
      "name": "python",
      "nbconvert_exporter": "python",
      "pygments_lexer": "ipython3",
      "version": "3.7.3"
    },
    "colab": {
      "name": "Chapter-4-In-Text-Examples.ipynb",
      "provenance": []
    },
    "accelerator": "GPU"
  },
  "cells": [
    {
      "cell_type": "markdown",
      "metadata": {
        "id": "xpn7lQ6Ohv-6"
      },
      "source": [
        "*아래 링크를 통해 이 노트북을 주피터 노트북 뷰어(nbviewer.jupyter.org)로 보거나 구글 코랩(colab.research.google.com)에서 실행할 수 있습니다.*\n",
        "\n",
        "<table class=\"tfo-notebook-buttons\" align=\"left\">\n",
        "  <td>\n",
        "    <a target=\"_blank\" href=\"https://nbviewer.jupyter.org/github/rickiepark/nlp-with-pytorch/blob/master/chapter_4/Chapter-4-In-Text-Examples.ipynb\"><img src=\"https://jupyter.org/assets/main-logo.svg\" width=\"28\" />주피터 노트북 뷰어로 보기</a>\n",
        "  </td>\n",
        "  <td>\n",
        "    <a target=\"_blank\" href=\"https://colab.research.google.com/github/rickiepark/nlp-with-pytorch/blob/master/chapter_4/Chapter-4-In-Text-Examples.ipynb\"><img src=\"https://www.tensorflow.org/images/colab_logo_32px.png\" />구글 코랩(Colab)에서 실행하기</a>\n",
        "  </td>\n",
        "</table>"
      ]
    },
    {
      "cell_type": "code",
      "metadata": {
        "id": "z78IASj2hv-_"
      },
      "source": [
        "import torch\n",
        "import torch.nn as nn\n",
        "import torch.nn.functional as F\n",
        "\n",
        "seed = 1337\n",
        "\n",
        "torch.manual_seed(seed)\n",
        "torch.cuda.manual_seed_all(seed)"
      ],
      "execution_count": 1,
      "outputs": []
    },
    {
      "cell_type": "markdown",
      "metadata": {
        "id": "kAUTcwyXhv_A"
      },
      "source": [
        "### 코드 4-1"
      ]
    },
    {
      "cell_type": "code",
      "metadata": {
        "id": "ZdGuKzgDhv_A"
      },
      "source": [
        "class MultilayerPerceptron(nn.Module):\n",
        "    def __init__(self, input_dim, hidden_dim, output_dim):\n",
        "        \"\"\"\n",
        "        매개변수:\n",
        "            input_dim (int): 입력 벡터 크기\n",
        "            hidden_dim (int): 첫 번째 Linear 층의 출력 크기\n",
        "            output_dim (int): 두 번째 Linear 층의 출력 크기\n",
        "        \"\"\"\n",
        "        super(MultilayerPerceptron, self).__init__()\n",
        "        self.fc1 = nn.Linear(input_dim, hidden_dim)\n",
        "        self.fc2 = nn.Linear(hidden_dim, output_dim)\n",
        "\n",
        "    def forward(self, x_in, apply_softmax=False):\n",
        "        \"\"\"MLP의 정방향 계산\n",
        "        \n",
        "        매개변수:\n",
        "            x_in (torch.Tensor): 입력 데이터 텐서\n",
        "                x_in.shape는 (batch, input_dim)입니다.\n",
        "            apply_softmax (bool): 소프트맥스 활성화 함수를 위한 플래그\n",
        "                크로스-엔트로피 손실을 사용하려면 False로 지정해야 합니다.\n",
        "        반환값:\n",
        "            결과 텐서. tensor.shape은 (batch, output_dim)입니다.\n",
        "        \"\"\"\n",
        "        intermediate = F.relu(self.fc1(x_in))\n",
        "        output = self.fc2(intermediate)\n",
        "        \n",
        "        if apply_softmax:\n",
        "            output = F.softmax(output, dim=1)\n",
        "        return output"
      ],
      "execution_count": 2,
      "outputs": []
    },
    {
      "cell_type": "markdown",
      "metadata": {
        "id": "MSCIO9-Thv_A"
      },
      "source": [
        "### 코드 4-2"
      ]
    },
    {
      "cell_type": "code",
      "metadata": {
        "id": "LjP1Ry_8hv_A",
        "colab": {
          "base_uri": "https://localhost:8080/"
        },
        "outputId": "361e5d47-887e-454d-8862-6ec1222afa44"
      },
      "source": [
        "batch_size = 2 # 한 번에 입력할 샘플 개수\n",
        "input_dim = 3\n",
        "hidden_dim = 100\n",
        "output_dim = 4\n",
        "\n",
        "# 모델 생성\n",
        "mlp = MultilayerPerceptron(input_dim, hidden_dim, output_dim)\n",
        "print(mlp)"
      ],
      "execution_count": 3,
      "outputs": [
        {
          "output_type": "stream",
          "text": [
            "MultilayerPerceptron(\n",
            "  (fc1): Linear(in_features=3, out_features=100, bias=True)\n",
            "  (fc2): Linear(in_features=100, out_features=4, bias=True)\n",
            ")\n"
          ],
          "name": "stdout"
        }
      ]
    },
    {
      "cell_type": "markdown",
      "metadata": {
        "id": "h2wJ8N4Fhv_B"
      },
      "source": [
        "### 코드 4-3"
      ]
    },
    {
      "cell_type": "code",
      "metadata": {
        "id": "osqoUvpThv_B"
      },
      "source": [
        "def describe(x):\n",
        "    print(\"타입: {}\".format(x.type()))\n",
        "    print(\"크기: {}\".format(x.shape))\n",
        "    print(\"값: \\n{}\".format(x))"
      ],
      "execution_count": 4,
      "outputs": []
    },
    {
      "cell_type": "code",
      "metadata": {
        "id": "NVWk-1Tphv_B",
        "colab": {
          "base_uri": "https://localhost:8080/"
        },
        "outputId": "b414d332-ceb7-40eb-ad65-14fe493a16c7"
      },
      "source": [
        "# 입력\n",
        "x_input = torch.rand(batch_size, input_dim)\n",
        "describe(x_input)"
      ],
      "execution_count": 5,
      "outputs": [
        {
          "output_type": "stream",
          "text": [
            "타입: torch.FloatTensor\n",
            "크기: torch.Size([2, 3])\n",
            "값: \n",
            "tensor([[0.8329, 0.4277, 0.4363],\n",
            "        [0.9686, 0.6316, 0.8494]])\n"
          ],
          "name": "stdout"
        }
      ]
    },
    {
      "cell_type": "code",
      "metadata": {
        "id": "-b-e_WLChv_C",
        "colab": {
          "base_uri": "https://localhost:8080/"
        },
        "outputId": "b25a49f7-a80f-4967-9b8e-8e6031712715"
      },
      "source": [
        "y_output = mlp(x_input, apply_softmax=False)\n",
        "describe(y_output)"
      ],
      "execution_count": 6,
      "outputs": [
        {
          "output_type": "stream",
          "text": [
            "타입: torch.FloatTensor\n",
            "크기: torch.Size([2, 4])\n",
            "값: \n",
            "tensor([[-0.2456,  0.0723,  0.1589, -0.3294],\n",
            "        [-0.3497,  0.0828,  0.3391, -0.4271]], grad_fn=<AddmmBackward>)\n"
          ],
          "name": "stdout"
        }
      ]
    },
    {
      "cell_type": "markdown",
      "metadata": {
        "id": "dvqIvnn4hv_C"
      },
      "source": [
        "### 코드 4-4"
      ]
    },
    {
      "cell_type": "code",
      "metadata": {
        "id": "85Fk7RZGhv_C",
        "colab": {
          "base_uri": "https://localhost:8080/"
        },
        "outputId": "24f32e2a-d81a-44d5-deb4-03650de5ba9b"
      },
      "source": [
        "y_output = mlp(x_input, apply_softmax=True)\n",
        "describe(y_output)"
      ],
      "execution_count": 7,
      "outputs": [
        {
          "output_type": "stream",
          "text": [
            "타입: torch.FloatTensor\n",
            "크기: torch.Size([2, 4])\n",
            "값: \n",
            "tensor([[0.2087, 0.2868, 0.3127, 0.1919],\n",
            "        [0.1832, 0.2824, 0.3649, 0.1696]], grad_fn=<SoftmaxBackward>)\n"
          ],
          "name": "stdout"
        }
      ]
    },
    {
      "cell_type": "markdown",
      "metadata": {
        "id": "EtsuXMoLhv_D"
      },
      "source": [
        "### 코드 4-13"
      ]
    },
    {
      "cell_type": "code",
      "metadata": {
        "id": "q-4ZTi-qhv_D",
        "colab": {
          "base_uri": "https://localhost:8080/"
        },
        "outputId": "c6bdf457-4bb7-4422-ebeb-b8a20f3aeb24"
      },
      "source": [
        "class MultilayerPerceptron(nn.Module):\n",
        "    def __init__(self, input_dim, hidden_dim, output_dim):\n",
        "        \"\"\"\n",
        "        매개변수:\n",
        "            input_dim (int): 입력 벡터 크기\n",
        "            hidden_dim (int): 첫 번째 Linear 층의 출력 크기\n",
        "            output_dim (int): 두 번째 Linear 층의 출력 크기\n",
        "        \"\"\"\n",
        "        super(MultilayerPerceptron, self).__init__()\n",
        "        self.fc1 = nn.Linear(input_dim, hidden_dim)\n",
        "        self.fc2 = nn.Linear(hidden_dim, output_dim)\n",
        "\n",
        "    def forward(self, x_in, apply_softmax=False):\n",
        "        \"\"\"MLP의 정방향 계산\n",
        "        \n",
        "        매개변수:\n",
        "            x_in (torch.Tensor): 입력 데이터 텐서\n",
        "                x_in.shape는 (batch, input_dim)입니다.\n",
        "            apply_softmax (bool): 소프트맥스 활성화 함수를 위한 플래그\n",
        "                크로스-엔트로피 손실을 사용하려면 False로 지정해야 합니다.\n",
        "        반환값:\n",
        "            결과 텐서. tensor.shape은 (batch, output_dim)입니다.\n",
        "        \"\"\"\n",
        "        intermediate = F.relu(self.fc1(x_in))\n",
        "        output = self.fc2(F.dropout(intermediate, p=0.5))\n",
        "        \n",
        "        if apply_softmax:\n",
        "            output = F.softmax(output, dim=1)\n",
        "        return output\n",
        "\n",
        "batch_size = 2 # 동시에 입력될 샘플의 개수\n",
        "input_dim = 3\n",
        "hidden_dim = 100\n",
        "output_dim = 4\n",
        "\n",
        "# 모델 생성\n",
        "mlp = MultilayerPerceptron(input_dim, hidden_dim, output_dim)\n",
        "print(mlp)\n",
        "\n",
        "y_output = mlp(x_input, apply_softmax=False)\n",
        "describe(y_output)"
      ],
      "execution_count": 8,
      "outputs": [
        {
          "output_type": "stream",
          "text": [
            "MultilayerPerceptron(\n",
            "  (fc1): Linear(in_features=3, out_features=100, bias=True)\n",
            "  (fc2): Linear(in_features=100, out_features=4, bias=True)\n",
            ")\n",
            "타입: torch.FloatTensor\n",
            "크기: torch.Size([2, 4])\n",
            "값: \n",
            "tensor([[ 0.0193,  0.0275,  0.2319,  0.3032],\n",
            "        [-0.5323,  0.3183,  0.4194, -0.0205]], grad_fn=<AddmmBackward>)\n"
          ],
          "name": "stdout"
        }
      ]
    },
    {
      "cell_type": "markdown",
      "metadata": {
        "id": "vJKlIvFghv_D"
      },
      "source": [
        "### 코드 4-14"
      ]
    },
    {
      "cell_type": "code",
      "metadata": {
        "id": "aU9iVyONhv_D",
        "colab": {
          "base_uri": "https://localhost:8080/"
        },
        "outputId": "ac677751-1110-49c4-d79d-ae9cc2e6139f"
      },
      "source": [
        "batch_size = 2\n",
        "one_hot_size = 10\n",
        "sequence_width = 7\n",
        "data = torch.randn(batch_size, one_hot_size, sequence_width)\n",
        "conv1 = nn.Conv1d(in_channels=one_hot_size, out_channels=16, kernel_size=3)\n",
        "intermediate1 = conv1(data)\n",
        "print(data.size())\n",
        "print(intermediate1.size())"
      ],
      "execution_count": 9,
      "outputs": [
        {
          "output_type": "stream",
          "text": [
            "torch.Size([2, 10, 7])\n",
            "torch.Size([2, 16, 5])\n"
          ],
          "name": "stdout"
        }
      ]
    },
    {
      "cell_type": "markdown",
      "metadata": {
        "id": "R_Xi6BYihv_E"
      },
      "source": [
        "### 코드 4-15"
      ]
    },
    {
      "cell_type": "code",
      "metadata": {
        "id": "kwYl4CP0hv_E",
        "colab": {
          "base_uri": "https://localhost:8080/"
        },
        "outputId": "69343a8c-82a6-4677-cbda-787156edc435"
      },
      "source": [
        "conv2 = nn.Conv1d(in_channels=16, out_channels=32, kernel_size=3)\n",
        "conv3 = nn.Conv1d(in_channels=32, out_channels=64, kernel_size=3)\n",
        "\n",
        "intermediate2 = conv2(intermediate1)\n",
        "intermediate3 = conv3(intermediate2)\n",
        "\n",
        "print(intermediate2.size())\n",
        "print(intermediate3.size())"
      ],
      "execution_count": 10,
      "outputs": [
        {
          "output_type": "stream",
          "text": [
            "torch.Size([2, 32, 3])\n",
            "torch.Size([2, 64, 1])\n"
          ],
          "name": "stdout"
        }
      ]
    },
    {
      "cell_type": "code",
      "metadata": {
        "id": "0TimjVabhv_F",
        "colab": {
          "base_uri": "https://localhost:8080/"
        },
        "outputId": "c3a056cc-a0de-4a09-d29b-354c9ae5a71a"
      },
      "source": [
        "y_output = intermediate3.squeeze()\n",
        "print(y_output.size())"
      ],
      "execution_count": 11,
      "outputs": [
        {
          "output_type": "stream",
          "text": [
            "torch.Size([2, 64])\n"
          ],
          "name": "stdout"
        }
      ]
    },
    {
      "cell_type": "code",
      "metadata": {
        "id": "WTtWqHluhv_F",
        "colab": {
          "base_uri": "https://localhost:8080/"
        },
        "outputId": "6bf0f999-1985-4eb9-d36e-1141dac13505"
      },
      "source": [
        "intermediate2.mean(dim=0).mean(dim=1).sum()"
      ],
      "execution_count": 12,
      "outputs": [
        {
          "output_type": "execute_result",
          "data": {
            "text/plain": [
              "tensor(-0.0493, grad_fn=<SumBackward0>)"
            ]
          },
          "metadata": {
            "tags": []
          },
          "execution_count": 12
        }
      ]
    },
    {
      "cell_type": "markdown",
      "metadata": {
        "id": "0L7H2RJQhv_F"
      },
      "source": [
        "### 코드 4-16"
      ]
    },
    {
      "cell_type": "code",
      "metadata": {
        "id": "dXJcHt8Mhv_G",
        "colab": {
          "base_uri": "https://localhost:8080/"
        },
        "outputId": "04b740da-6e12-4322-a75a-f82f1df1b1d6"
      },
      "source": [
        "# 특성 벡터를 줄이는 방법 2\n",
        "print(intermediate1.view(batch_size, -1).size())\n",
        "\n",
        "# 특성 벡터를 줄이는 방법 2\n",
        "print(torch.mean(intermediate1, dim=2).size())\n",
        "# print(torch.max(intermediate1, dim=2).size())\n",
        "# print(torch.sum(intermediate1, dim=2).size())"
      ],
      "execution_count": 13,
      "outputs": [
        {
          "output_type": "stream",
          "text": [
            "torch.Size([2, 80])\n",
            "torch.Size([2, 16])\n"
          ],
          "name": "stdout"
        }
      ]
    },
    {
      "cell_type": "markdown",
      "metadata": {
        "id": "E525EulUhv_G"
      },
      "source": [
        "### 코드 4-22\n",
        "\n",
        "전체 모델을 다시 만들지 않고 배치 정규화를 사용하는 방법만 소개합니다."
      ]
    },
    {
      "cell_type": "code",
      "metadata": {
        "id": "hFuZ-K6xhv_G",
        "colab": {
          "base_uri": "https://localhost:8080/"
        },
        "outputId": "fa92b7f3-8a7b-467c-92d4-877a2b89026e"
      },
      "source": [
        "conv1 = nn.Conv1d(in_channels=one_hot_size, out_channels=16, kernel_size=3)\n",
        "conv2 = nn.Conv1d(in_channels=16, out_channels=32, kernel_size=3)\n",
        "conv3 = nn.Conv1d(in_channels=32, out_channels=64, kernel_size=3)\n",
        "\n",
        "conv1_bn = nn.BatchNorm1d(num_features=16)\n",
        "conv2_bn = nn.BatchNorm1d(num_features=32)\n",
        "    \n",
        "intermediate1 = conv1_bn(F.relu(conv1(data)))\n",
        "intermediate2 = conv2_bn(F.relu(conv2(intermediate1)))\n",
        "intermediate3 = conv3(intermediate2)\n",
        "\n",
        "print(intermediate1.size())\n",
        "print(intermediate2.size())\n",
        "print(intermediate3.size())"
      ],
      "execution_count": 14,
      "outputs": [
        {
          "output_type": "stream",
          "text": [
            "torch.Size([2, 16, 5])\n",
            "torch.Size([2, 32, 3])\n",
            "torch.Size([2, 64, 1])\n"
          ],
          "name": "stdout"
        }
      ]
    },
    {
      "cell_type": "markdown",
      "metadata": {
        "id": "5S0Prvi9hv_G"
      },
      "source": [
        "노트: 배치 정규화는 배치와 시퀀스 차원에 대해 통곗값을 계산합니다. 다른 말로하면 `BatchNorm1d`에 입력되는 텐서의 크기는 `(B, C, L)`입니다(여기에서 B는 배치, C는 채널, L은 길이). 각 `(B, L)` 슬라이스마다 원점에 평균을 맞춥니다. 이는 공변량 변화(covariate shift)를 줄입니다."
      ]
    },
    {
      "cell_type": "code",
      "metadata": {
        "id": "9JkPjJrphv_H",
        "colab": {
          "base_uri": "https://localhost:8080/"
        },
        "outputId": "f9caf57c-9f93-4aa8-a13d-8dbb19048d57"
      },
      "source": [
        "intermediate2.mean(dim=(0, 2))"
      ],
      "execution_count": 15,
      "outputs": [
        {
          "output_type": "execute_result",
          "data": {
            "text/plain": [
              "tensor([ 1.9868e-08,  2.9802e-08,  6.9539e-08,  3.9736e-08,  1.9868e-08,\n",
              "         3.9736e-08,  1.9868e-08, -9.9341e-09,  9.9341e-09,  0.0000e+00,\n",
              "         0.0000e+00,  1.9868e-08,  0.0000e+00, -9.9341e-09, -1.9868e-08,\n",
              "         0.0000e+00,  0.0000e+00,  3.9736e-08, -1.9868e-08,  0.0000e+00,\n",
              "         1.9868e-08,  1.9868e-08,  2.0179e-08,  0.0000e+00,  0.0000e+00,\n",
              "        -1.9868e-08, -3.9736e-08, -1.9868e-08,  1.9868e-08, -3.9736e-08,\n",
              "        -1.9868e-08, -1.4901e-08], grad_fn=<MeanBackward1>)"
            ]
          },
          "metadata": {
            "tags": []
          },
          "execution_count": 15
        }
      ]
    },
    {
      "cell_type": "markdown",
      "metadata": {
        "id": "av2B7Cxxhv_H"
      },
      "source": [
        "## 보너스 코드\n",
        "\n",
        "4장에서 합성곱을 다룹니다. 아래 코드는 여러 하이퍼파라미터 설정으로 합성곱을 만듭니다."
      ]
    },
    {
      "cell_type": "code",
      "metadata": {
        "id": "DcC4MPrbhv_H",
        "colab": {
          "base_uri": "https://localhost:8080/"
        },
        "outputId": "10a320ad-ad6f-454c-93a1-32addc9f522c"
      },
      "source": [
        "x = torch.randn(1, 2, 3, 3)\n",
        "describe(x)\n",
        "\n",
        "conv1 = nn.Conv2d(in_channels=2, out_channels=1, kernel_size=2)\n",
        "describe(conv1.weight)\n",
        "describe(conv1(x))"
      ],
      "execution_count": 16,
      "outputs": [
        {
          "output_type": "stream",
          "text": [
            "타입: torch.FloatTensor\n",
            "크기: torch.Size([1, 2, 3, 3])\n",
            "값: \n",
            "tensor([[[[-1.3034,  0.9247,  1.2295],\n",
            "          [-1.1446,  0.5722, -0.1904],\n",
            "          [ 0.2819,  1.6849, -0.4500]],\n",
            "\n",
            "         [[-1.5986,  0.8513,  0.3467],\n",
            "          [ 0.4521, -0.8266, -0.5102],\n",
            "          [ 0.1659, -0.0821,  0.1389]]]])\n",
            "타입: torch.FloatTensor\n",
            "크기: torch.Size([1, 2, 2, 2])\n",
            "값: \n",
            "Parameter containing:\n",
            "tensor([[[[ 0.2706,  0.3010],\n",
            "          [-0.3514,  0.1179]],\n",
            "\n",
            "         [[-0.3259,  0.1782],\n",
            "          [ 0.0018,  0.2244]]]], requires_grad=True)\n",
            "타입: torch.FloatTensor\n",
            "크기: torch.Size([1, 1, 2, 2])\n",
            "값: \n",
            "tensor([[[[ 0.7289, -0.0895],\n",
            "          [-0.5052, -0.4926]]]], grad_fn=<ThnnConv2DBackward>)\n"
          ],
          "name": "stdout"
        }
      ]
    },
    {
      "cell_type": "code",
      "metadata": {
        "id": "G4xHe6kvhv_H",
        "colab": {
          "base_uri": "https://localhost:8080/"
        },
        "outputId": "1b1c3aec-c226-44b4-9988-ac80e1cafa2e"
      },
      "source": [
        "x = torch.randn(1, 1, 3, 3)\n",
        "describe(x)\n",
        "\n",
        "conv1 = nn.Conv2d(in_channels=1, out_channels=2, kernel_size=2)\n",
        "describe(conv1.weight)\n",
        "describe(conv1(x))"
      ],
      "execution_count": 17,
      "outputs": [
        {
          "output_type": "stream",
          "text": [
            "타입: torch.FloatTensor\n",
            "크기: torch.Size([1, 1, 3, 3])\n",
            "값: \n",
            "tensor([[[[-1.4027, -0.4858, -1.6482],\n",
            "          [-3.2619,  0.1149,  0.7911],\n",
            "          [-0.0382, -0.1485, -0.6093]]]])\n",
            "타입: torch.FloatTensor\n",
            "크기: torch.Size([2, 1, 2, 2])\n",
            "값: \n",
            "Parameter containing:\n",
            "tensor([[[[ 0.0806,  0.4423],\n",
            "          [-0.1840, -0.4620]]],\n",
            "\n",
            "\n",
            "        [[[-0.1611,  0.1878],\n",
            "          [ 0.3422, -0.0861]]]], requires_grad=True)\n",
            "타입: torch.FloatTensor\n",
            "크기: torch.Size([1, 2, 2, 2])\n",
            "값: \n",
            "tensor([[[[ 3.5492e-01, -1.0193e+00],\n",
            "          [-8.9103e-04,  8.0362e-01]],\n",
            "\n",
            "         [[-5.2371e-01,  2.0747e-01],\n",
            "          [ 1.0143e+00,  5.9923e-01]]]], grad_fn=<ThnnConv2DBackward>)\n"
          ],
          "name": "stdout"
        }
      ]
    }
  ]
}